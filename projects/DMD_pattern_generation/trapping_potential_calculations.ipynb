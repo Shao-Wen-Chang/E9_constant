{
 "cells": [
  {
   "cell_type": "code",
   "execution_count": null,
   "metadata": {},
   "outputs": [],
   "source": [
    "# import all the E9 stuff\n",
    "import logging\n",
    "import numpy as np\n",
    "import matplotlib.pyplot as plt\n",
    "import sys\n",
    "from pathlib import Path\n",
    "\n",
    "# User defined modules\n",
    "E9path = Path(\"C:/\", \"Users\", \"ken92\", \"Documents\", \"Studies\", \"E5\", \"simulation\", \"E9_simulations\")\n",
    "if str(E9path) not in sys.path:\n",
    "    sys.path.insert(1, str(E9path))\n",
    "import E9_fn.E9_constants as E9c\n",
    "import E9_fn.E9_atom as E9a\n",
    "import E9_fn.E9_cooltrap as E9ct\n",
    "# import E9_fn.polarizabilities_calculation as E9pol\n",
    "# import E9_fn.datasets.transition_line_data as TLData\n",
    "from E9_fn import util\n",
    "\n",
    "# Logging\n",
    "logpath = '' # '' if not logging to a file\n",
    "loglevel = logging.INFO\n",
    "logroot = logging.getLogger()\n",
    "list(map(logroot.removeHandler, logroot.handlers))\n",
    "list(map(logroot.removeFilter, logroot.filters))\n",
    "logging.basicConfig(filename = logpath, level = loglevel)"
   ]
  },
  {
   "cell_type": "markdown",
   "metadata": {},
   "source": [
    "# Check what species you are using!\n",
    "Currently want to look at: 87Rb"
   ]
  },
  {
   "cell_type": "markdown",
   "metadata": {},
   "source": [
    "## Magnetic trap"
   ]
  },
  {
   "cell_type": "code",
   "execution_count": null,
   "metadata": {},
   "outputs": [
    {
     "name": "stdout",
     "output_type": "stream",
     "text": [
      "V_grad_decom = 134.3428 uK/mm\n",
      "V_rf_evap = -500.0000 uK\n",
      "(semiclassical) decompressed trap size = 3.7218 mm\n"
     ]
    }
   ],
   "source": [
    "B_grad_com = 100        # [G/cm] B field gradient after compressing\n",
    "B_grad_decom = 20       # [G/cm] B field gradient after decompressing\n",
    "delta_rf_final = -10e6  # [MHz] detuning of RF knife at the end of rf evaporation\n",
    "Rb87_mF = 2             # mF value\n",
    "\n",
    "V_grad_decom = (B_grad_decom / 1e4 * 1e2) * E9c.mu_B * E9a.Rb87_5_2S1o2_F2.gF * Rb87_mF # [J/m]\n",
    "V_grad_decom_uK__mm = V_grad_decom / E9c.k_B / 1e-6 / 1e3\n",
    "V_grad_com = (B_grad_com / 1e4 * 1e2) * E9c.mu_B * E9a.Rb87_5_2S1o2_F2.gF * Rb87_mF # [J/m]\n",
    "V_grad_com_uK__mm = V_grad_com / E9c.k_B / 1e-6 / 1e3\n",
    "V_rf_evap_uK = delta_rf_final / 20e9 / 1e-6\n",
    "print(\"V_grad_decom = {:.4f} uK/mm\".format(V_grad_decom_uK__mm))\n",
    "print(\"V_rf_evap = {:.4f} uK\".format(V_rf_evap_uK))\n",
    "print(\"(semiclassical) decompressed trap size = {:.4f} mm\".format(abs(V_rf_evap_uK) / V_grad_decom_uK__mm))"
   ]
  },
  {
   "cell_type": "markdown",
   "metadata": {},
   "source": [
    "## ODTs"
   ]
  },
  {
   "cell_type": "code",
   "execution_count": null,
   "metadata": {},
   "outputs": [
    {
     "name": "stdout",
     "output_type": "stream",
     "text": [
      "Fattage of the beam = 1.0 (beam waist = 5.00e-05)\n",
      "V_ODT = -35.0160 uK\n",
      "V_ODT = -729.6146 kHz\n"
     ]
    }
   ],
   "source": [
    "pwr_ODT = 1     # [W] ODT power at atoms\n",
    "w0_ODT = 50e-6  # ODT waist (not using the value I have in E9_constants)\n",
    "fattening = 1.  # Additional fudge factor to account for being off focus, M2 > 1, etc.\n",
    "\n",
    "I_ODT_max = util.I_from_power(pwr_ODT, w0_ODT * fattening)\n",
    "V_ODT = E9ct.V0_from_I(E9c.gamma_Rb87_D2, (E9c.nu_Rb87_4_2P3o2 + E9c.nu_Rb87_4_2P1o2)/2,\n",
    "                      E9c.f_lw, I_ODT_max, E9a.Rb87_5_2S1o2_F2.gF, 2)\n",
    "print(\"Fattage of the beam = {} (beam waist = {:.2e})\".format(fattening, w0_ODT * fattening))\n",
    "print(\"V_ODT = {:.4f} uK\".format(V_ODT / E9c.k_B / 1e-6))\n",
    "print(\"V_ODT = {:.4f} kHz\".format(V_ODT / E9c.hnobar / 1000))"
   ]
  },
  {
   "cell_type": "markdown",
   "metadata": {},
   "source": [
    "## DMD"
   ]
  },
  {
   "cell_type": "code",
   "execution_count": null,
   "metadata": {},
   "outputs": [
    {
     "name": "stdout",
     "output_type": "stream",
     "text": [
      "V_DMD = 82.09433987605135 kHz\n"
     ]
    }
   ],
   "source": [
    "# input parameters\n",
    "lambda_DMD = 638e-9     # wavelength used for DMD potential\n",
    "pwr_DMD = 1             # DMD power at atoms, in watts\n",
    "DMD_FoV = 200e-6**2     # field of view (region illuminated) by the DMD\n",
    "\n",
    "I_at_atom = pwr_DMD / DMD_FoV\n",
    "f_DMD = E9c.c_light / lambda_DMD\n",
    "V_DMD = E9ct.V0_from_I(E9c.gamma_40K_D2, (E9c.nu_K40_4_2P3o2 + E9c.nu_K40_4_2P1o2)/2,\n",
    "                      f_DMD, I_at_atom, E9a.K40_4_2S1o2_F9o2.gF, 9/2)\n",
    "print(\"V_DMD = {} kHz\".format(V_DMD / E9c.hnobar / 1000))\n",
    "\n",
    "# Polarizibility based calculation\n",
    "# s_pol = E9pol.alpha_pol(0, lambda_DMD, E9pol.K_4S1o2_LOI, '4S1o2')\n",
    "# print(\"V_DMD = {} kHz (from polarizibility)\".format(- s_pol * I_at_atom * E9c.Z_0 / 2 / E9c.hnobar / 1000))"
   ]
  },
  {
   "cell_type": "code",
   "execution_count": 26,
   "metadata": {},
   "outputs": [
    {
     "name": "stdout",
     "output_type": "stream",
     "text": [
      "7.532905935793225\n",
      "A_max = 4.052495215875869 G/cm\n"
     ]
    }
   ],
   "source": [
    "w_MOT = 6e-3\n",
    "I_MOT = 60e-3\n",
    "gamma_Yb174 = 182.4e3 * 2 * np.pi\n",
    "lambda_Yb174 = 555.8e-9\n",
    "m_Yb174 = 174 * E9c.m_u\n",
    "mu_Yb174 = 1.5 * E9c.mu_B\n",
    "v_MOT_actual = 5\n",
    "\n",
    "k_MOT = 2 * np.pi / lambda_Yb174\n",
    "v_MOT_max = np.sqrt(2 * E9c.hbar * k_MOT * gamma_Yb174 * w_MOT / m_Yb174)\n",
    "A_max = (E9c.hbar * k_MOT)**2 / (2 * m_Yb174) * gamma_Yb174 / (mu_Yb174 * v_MOT_actual)\n",
    "print(v_MOT_max)\n",
    "print(\"A_max = {} G/cm\".format(A_max * 100))"
   ]
  },
  {
   "cell_type": "code",
   "execution_count": null,
   "metadata": {},
   "outputs": [],
   "source": []
  }
 ],
 "metadata": {
  "kernelspec": {
   "display_name": ".venv",
   "language": "python",
   "name": "python3"
  },
  "language_info": {
   "codemirror_mode": {
    "name": "ipython",
    "version": 3
   },
   "file_extension": ".py",
   "mimetype": "text/x-python",
   "name": "python",
   "nbconvert_exporter": "python",
   "pygments_lexer": "ipython3",
   "version": "3.11.4"
  }
 },
 "nbformat": 4,
 "nbformat_minor": 2
}
