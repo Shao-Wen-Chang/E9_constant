{
 "cells": [
  {
   "cell_type": "code",
   "execution_count": 1,
   "metadata": {},
   "outputs": [],
   "source": [
    "# Usage guide:\n",
    "\n",
    "# This document is not kept on record. If the calcualtions are to be kept,\n",
    "# copy the whole notebook and put it in \"quick_calculations\" or appropriate\n",
    "# folders."
   ]
  },
  {
   "cell_type": "code",
   "execution_count": 2,
   "metadata": {},
   "outputs": [
    {
     "name": "stderr",
     "output_type": "stream",
     "text": [
      "c:\\Users\\ken92\\Documents\\Studies\\E5\\simulation\\E9_simulations\\.venv\\Lib\\site-packages\\gftool\\precision.py:16: UserWarning: No quad precision datatypes available!\n",
      "Some functions might be less accurate.\n",
      "  warnings.warn(\"No quad precision datatypes available!\\n\"\n"
     ]
    }
   ],
   "source": [
    "# import all the E9 stuff\n",
    "import logging\n",
    "import numpy as np\n",
    "import matplotlib.pyplot as plt\n",
    "import sys\n",
    "from pathlib import Path\n",
    "\n",
    "# User defined modules\n",
    "E9path = Path(\"C:/\", \"Users\", \"ken92\", \"Documents\", \"Studies\", \"E5\", \"simulation\", \"E9_simulations\")\n",
    "if str(E9path) not in sys.path:\n",
    "    sys.path.insert(1, str(E9path))\n",
    "import E9_fn.E9_constants as E9c\n",
    "import E9_fn.E9_atom as E9a\n",
    "import E9_fn.E9_cooltrap as E9ct\n",
    "import E9_fn.polarizabilities_calculation as E9pol\n",
    "# import E9_fn.datasets.transition_line_data as TLData\n",
    "from E9_fn import util\n",
    "from E9_fn.hardware.cameras import all_cameras\n",
    "\n",
    "# Logging\n",
    "logpath = '' # '' if not logging to a file\n",
    "loglevel = logging.INFO\n",
    "logroot = logging.getLogger()\n",
    "list(map(logroot.removeHandler, logroot.handlers))\n",
    "list(map(logroot.removeFilter, logroot.filters))\n",
    "logging.basicConfig(filename = logpath, level = loglevel)"
   ]
  },
  {
   "cell_type": "code",
   "execution_count": 3,
   "metadata": {},
   "outputs": [
    {
     "name": "stdout",
     "output_type": "stream",
     "text": [
      "Assuming (isotropic) trap frequency = 2*pi*30 Hz, total particle number = 20000.0, T = 0\n",
      "K39: Fermi radius = 10.35 um (scattering length = 100 a0)\n",
      "K40: Fermi radius = 25.69 um (balanced spin-1/2 system)\n",
      "K39 with momentum of one reciprocal lattice vector will fly\n",
      "1111.41 um in one trap period (33.33 ms)\n",
      "212.2637170582222\n"
     ]
    }
   ],
   "source": [
    "# System size related\n",
    "# Inputs\n",
    "trap_freq_Hz = 30\n",
    "N_all = 2e4               # includes all spin species\n",
    "K39_a_s_a0 = 100          # interaction strength of K39, in units of a0\n",
    "MSF_time = 10e-3          # Momentum space focusing time\n",
    "\n",
    "trap_freq_rad = 2 * np.pi * trap_freq_Hz\n",
    "K39_a_s = E9c.a0 * K39_a_s_a0\n",
    "T_trap = 1 / trap_freq_Hz # Trap \"period\"\n",
    "R_K39 = E9ct.fermi_radius(E9c.m_K39, trap_freq_rad, N_all, xi = -1, a_s = K39_a_s)\n",
    "R_K40 = E9ct.fermi_radius(E9c.m_K40, trap_freq_rad, N_all/2, xi = 1)\n",
    "d_ToF = (E9c.hbar * E9c.g_sw / E9c.m_K39) * T_trap\n",
    "MSF_freq_rad = 2 * np.pi / (4 * 10e-3) # trap frequency of MSF B trap\n",
    "print(\"Assuming (isotropic) trap frequency = 2*pi*{} Hz, total particle number = {}, T = 0\".format(\n",
    "    trap_freq_Hz, N_all))\n",
    "print(\"K39: Fermi radius = {:.2f} um (scattering length = {} a0)\".format(R_K39 * 1e6, K39_a_s_a0))\n",
    "print(\"K40: Fermi radius = {:.2f} um (balanced spin-1/2 system)\".format(R_K40 * 1e6))\n",
    "print(\"K39 with momentum of one reciprocal lattice vector will fly\\n\" \n",
    "      \"{:.2f} um in one trap period ({:.2f} ms)\".format(d_ToF * 1e6, T_trap * 1e3))\n",
    "print((E9c.hbar * E9c.g_sw / E9c.m_K39) / MSF_freq_rad *1e6)\n"
   ]
  },
  {
   "cell_type": "code",
   "execution_count": 4,
   "metadata": {},
   "outputs": [
    {
     "name": "stdout",
     "output_type": "stream",
     "text": [
      "Angle = 55.053 deg, NA = 0.820\n"
     ]
    }
   ],
   "source": [
    "# Mechanical constraints\n",
    "ang = np.arctan(20.32/14.2)\n",
    "NA = np.sin(ang)\n",
    "print(\"Angle = {:.3f} deg, NA = {:.3f}\".format(ang / np.pi * 180, NA))"
   ]
  },
  {
   "cell_type": "code",
   "execution_count": 5,
   "metadata": {},
   "outputs": [
    {
     "name": "stdout",
     "output_type": "stream",
     "text": [
      "To map the lattice constant to 3 pixel widths require:\n",
      "--- iXon885 ---\n",
      "M = 67.67\n",
      "Field of view = 118.70 x 118.46 um\n",
      "--- iXon888 ---\n",
      "M = 109.96\n",
      "Field of view = 121.06 x 121.06 um\n",
      "--- iXon897 ---\n",
      "M = 135.34\n",
      "Field of view = 60.53 x 60.53 um\n",
      "--- Marana11 ---\n",
      "M = 93.05\n",
      "Field of view = 242.12 x 242.12 um\n",
      "--- Marana6 ---\n",
      "M = 54.98\n",
      "Field of view = 242.12 x 242.12 um\n",
      "--- Stingray ---\n",
      "M = 70.21\n",
      "Field of view = 92.21 x 68.57 um\n"
     ]
    }
   ],
   "source": [
    "# Resolution related\n",
    "px_per_a_lat = 3\n",
    "print(f\"To map the lattice constant to {px_per_a_lat} pixel widths require:\")\n",
    "for cam in all_cameras:\n",
    "    M_required = (cam.l_px / E9c.a_sw_tri) * px_per_a_lat\n",
    "    FoV_um = 1e6 * cam.active_area / M_required\n",
    "    print(f\"--- {cam.name} ---\")\n",
    "    print(f\"M = {M_required:.2f}\")\n",
    "    print(f\"Field of view = {FoV_um[0]:.2f} x {FoV_um[1]:.2f} um\")"
   ]
  },
  {
   "cell_type": "code",
   "execution_count": null,
   "metadata": {},
   "outputs": [],
   "source": []
  },
  {
   "cell_type": "code",
   "execution_count": null,
   "metadata": {},
   "outputs": [],
   "source": []
  }
 ],
 "metadata": {
  "kernelspec": {
   "display_name": ".venv",
   "language": "python",
   "name": "python3"
  },
  "language_info": {
   "codemirror_mode": {
    "name": "ipython",
    "version": 3
   },
   "file_extension": ".py",
   "mimetype": "text/x-python",
   "name": "python",
   "nbconvert_exporter": "python",
   "pygments_lexer": "ipython3",
   "version": "3.11.4"
  }
 },
 "nbformat": 4,
 "nbformat_minor": 2
}
