{
 "cells": [
  {
   "cell_type": "code",
   "execution_count": 2,
   "metadata": {},
   "outputs": [],
   "source": [
    "# Usage guide:\n",
    "\n",
    "# This document is not kept on record. If the calcualtions are to be kept,\n",
    "# copy the whole notebook and put it in \"quick_calculations\" or appropriate\n",
    "# folders."
   ]
  },
  {
   "cell_type": "code",
   "execution_count": 3,
   "metadata": {},
   "outputs": [
    {
     "name": "stderr",
     "output_type": "stream",
     "text": [
      "c:\\Users\\ken92\\anaconda3\\envs\\spyder-env\\Lib\\site-packages\\gftool\\precision.py:16: UserWarning: No quad precision datatypes available!\n",
      "Some functions might be less accurate.\n",
      "  warnings.warn(\"No quad precision datatypes available!\\n\"\n"
     ]
    }
   ],
   "source": [
    "# import all the E9 stuff\n",
    "import logging\n",
    "import numpy as np\n",
    "import matplotlib.pyplot as plt\n",
    "import sys\n",
    "sys.path.insert(1,\n",
    "    \"C:\\\\Users\\\\ken92\\\\Documents\\\\Studies\\\\E5\\\\simulation\\\\E9_simulations\")\n",
    "import E9_fn.E9_constants as E9c\n",
    "import E9_fn.E9_atom as E9a\n",
    "from E9_fn import util\n",
    "\n",
    "# Logging\n",
    "logpath = '' # '' if not logging to a file\n",
    "loglevel = logging.INFO\n",
    "logging.info(\"unit system: {}\".format(E9c.unit_system))\n",
    "logroot = logging.getLogger()\n",
    "list(map(logroot.removeHandler, logroot.handlers))\n",
    "list(map(logroot.removeFilter, logroot.filters))\n",
    "logging.basicConfig(filename = logpath, level = loglevel)"
   ]
  },
  {
   "cell_type": "code",
   "execution_count": null,
   "metadata": {},
   "outputs": [
    {
     "name": "stdout",
     "output_type": "stream",
     "text": [
      "Assuming (isotropic) trap frequency = 2*pi*30 Hz, total particle number = 20000.0, T = 0\n",
      "K39: Fermi radius = 10.35 um (scattering length = 100 a0)\n",
      "K40: Fermi radius = 25.69 um (balanced spin-1/2 system)\n",
      "K39 with momentum of one reciprocal lattice vector will fly\n",
      "1111.41 um in one trap period (33.33 ms)\n",
      "212.2637170582222\n"
     ]
    }
   ],
   "source": [
    "# System size related\n",
    "# Inputs\n",
    "trap_freq_Hz = 30\n",
    "N_all = 2e4               # includes all spin species\n",
    "K39_a_s_a0 = 100          # interaction strength of K39, in units of a0\n",
    "MSF_time = 10e-3          # Momentum space focusing time\n",
    "\n",
    "trap_freq_rad = 2 * np.pi * trap_freq_Hz\n",
    "K39_a_s = E9n.a0 * K39_a_s_a0\n",
    "T_trap = 1 / trap_freq_Hz # Trap \"period\"\n",
    "R_K39 = E9ct.fermi_radius(E9n.m_K39, trap_freq_rad, N_all, xi = -1, a_s = K39_a_s)\n",
    "R_K40 = E9ct.fermi_radius(E9n.m_K40, trap_freq_rad, N_all/2, xi = 1)\n",
    "d_ToF = (E9c.hbar * E9c.G_sw / E9c.m_K39) * T_trap\n",
    "MSF_freq_rad = 2 * np.pi / (4 * 10e-3) # trap frequency of MSF B trap\n",
    "print(\"Assuming (isotropic) trap frequency = 2*pi*{} Hz, total particle number = {}, T = 0\".format(\n",
    "    trap_freq_Hz, N_all))\n",
    "print(\"K39: Fermi radius = {:.2f} um (scattering length = {} a0)\".format(R_K39 * 1e6, K39_a_s_a0))\n",
    "print(\"K40: Fermi radius = {:.2f} um (balanced spin-1/2 system)\".format(R_K40 * 1e6))\n",
    "print(\"K39 with momentum of one reciprocal lattice vector will fly\\n\" \n",
    "      \"{:.2f} um in one trap period ({:.2f} ms)\".format(d_ToF * 1e6, T_trap * 1e3))\n",
    "print((E9c.hbar * E9c.G_sw / E9c.m_K39) / MSF_freq_rad *1e6)\n"
   ]
  },
  {
   "cell_type": "code",
   "execution_count": 5,
   "metadata": {},
   "outputs": [
    {
     "name": "stdout",
     "output_type": "stream",
     "text": [
      "Angle = 55.053 deg, NA = 0.820\n"
     ]
    }
   ],
   "source": [
    "# Mechanical constraints\n",
    "ang = np.arctan(20.32/14.2)\n",
    "NA = np.sin(ang)\n",
    "print(\"Angle = {:.3f} deg, NA = {:.3f}\".format(ang / np.pi * 180, NA))"
   ]
  },
  {
   "cell_type": "code",
   "execution_count": 13,
   "metadata": {},
   "outputs": [
    {
     "name": "stdout",
     "output_type": "stream",
     "text": [
      "To map the lattice constant to 3 pixel widths require:\n",
      "iXon885 - M = 67.66917293233082\n",
      "iXon888 - M = 109.96240601503757\n",
      "iXon897 - M = 135.33834586466165\n",
      "_Marana11 - M = 93.04511278195488\n",
      "Marana6.5 - M = 54.981203007518786\n"
     ]
    }
   ],
   "source": [
    "# Resolution related\n",
    "pixel_sizes = {\n",
    "    \"iXon885\": 8e-6,           # Andor EMCCD in E3/E4 (Very old model)\n",
    "    \"iXon888\": 13e-6,          # Andor EMCCD\n",
    "    \"iXon897\": 16e-6,          # Andor EMCCD\n",
    "    \"_Marana11\": 11e-6,        # Andor sCMOS; slightly more thermal noise\n",
    "    \"Marana6.5\": 6.5e-6,       # Andor sCMOS\n",
    "}\n",
    "\n",
    "# Magnification - want ~3x3 pixels for each lattice site\n",
    "M_required = dict(zip(pixel_sizes.keys()\n",
    "                           ,(np.array(list(pixel_sizes.values())) / E9c.a_sw_tri) * 3))\n",
    "\n",
    "print(\"To map the lattice constant to 3 pixel widths require:\")\n",
    "for k, v in M_required.items():\n",
    "    print(\"{} - M = {}\".format(k, v))"
   ]
  },
  {
   "cell_type": "code",
   "execution_count": 12,
   "metadata": {},
   "outputs": [
    {
     "data": {
      "text/plain": [
       "array([8.0e-06, 1.3e-05, 1.6e-05, 1.1e-05, 6.5e-06])"
      ]
     },
     "execution_count": 12,
     "metadata": {},
     "output_type": "execute_result"
    }
   ],
   "source": [
    "np.array(list(pixel_sizes.values()))"
   ]
  },
  {
   "cell_type": "code",
   "execution_count": null,
   "metadata": {},
   "outputs": [],
   "source": []
  }
 ],
 "metadata": {
  "kernelspec": {
   "display_name": "spyder-env",
   "language": "python",
   "name": "python3"
  },
  "language_info": {
   "codemirror_mode": {
    "name": "ipython",
    "version": 3
   },
   "file_extension": ".py",
   "mimetype": "text/x-python",
   "name": "python",
   "nbconvert_exporter": "python",
   "pygments_lexer": "ipython3",
   "version": "3.11.4"
  }
 },
 "nbformat": 4,
 "nbformat_minor": 2
}
