{
 "cells": [
  {
   "cell_type": "code",
   "execution_count": 1,
   "metadata": {},
   "outputs": [
    {
     "name": "stderr",
     "output_type": "stream",
     "text": [
      "c:\\Users\\ken92\\Documents\\Studies\\E5\\simulation\\E9_simulations\\.venv\\Lib\\site-packages\\gftool\\precision.py:16: UserWarning: No quad precision datatypes available!\n",
      "Some functions might be less accurate.\n",
      "  warnings.warn(\"No quad precision datatypes available!\\n\"\n"
     ]
    }
   ],
   "source": [
    "# import all the E9 stuff\n",
    "import logging\n",
    "import numpy as np\n",
    "import matplotlib.pyplot as plt\n",
    "import sys\n",
    "from pathlib import Path\n",
    "\n",
    "# User defined modules\n",
    "E9path = Path(\"C:/\", \"Users\", \"ken92\", \"Documents\", \"Studies\", \"E5\", \"simulation\", \"E9_simulations\")\n",
    "if str(E9path) not in sys.path:\n",
    "    sys.path.insert(1, str(E9path))\n",
    "import E9_fn.E9_constants as E9c\n",
    "import E9_fn.E9_atom as E9a\n",
    "import E9_fn.E9_cooltrap as E9ct\n",
    "import E9_fn.polarizabilities_calculation as E9pol\n",
    "# import E9_fn.datasets.transition_line_data as TLData\n",
    "from E9_fn import util\n",
    "\n",
    "# Logging\n",
    "logpath = '' # '' if not logging to a file\n",
    "loglevel = logging.INFO\n",
    "logroot = logging.getLogger()\n",
    "list(map(logroot.removeHandler, logroot.handlers))\n",
    "list(map(logroot.removeFilter, logroot.filters))\n",
    "logging.basicConfig(filename = logpath, level = loglevel)"
   ]
  },
  {
   "cell_type": "markdown",
   "metadata": {},
   "source": [
    "# Atom stuff"
   ]
  },
  {
   "cell_type": "code",
   "execution_count": 2,
   "metadata": {},
   "outputs": [
    {
     "name": "stderr",
     "output_type": "stream",
     "text": [
      "INFO:root:K_4S1o2_3D5o2 transition does not have f_ik data (not E1 allowed?)\n",
      "INFO:root:K_4S1o2_3D5o2 transition does not have f_ik data (not E1 allowed?)\n",
      "INFO:root:K_4S1o2_4D5o2 transition does not have f_ik data (not E1 allowed?)\n",
      "INFO:root:K_4S1o2_4D3o2 transition does not have f_ik data (not E1 allowed?)\n"
     ]
    },
    {
     "name": "stdout",
     "output_type": "stream",
     "text": [
      "K polarizability is 0.8745 that of Rb polarizability\n"
     ]
    }
   ],
   "source": [
    "Rb_atom = E9a.Rb87_5_2S1o2_F2\n",
    "mu_Rb = E9c.mu_B * Rb_atom.gF * 2   # 2 here is mF = 2; sign is V = mu * B\n",
    "K_atom = E9a.K40_4_2S1o2_F9o2\n",
    "mu_K = E9c.mu_B * K_atom.gF * 9/2\n",
    "\n",
    "# Polarizabilities\n",
    "K_pol = E9pol.alpha_s_K_4S1o2(E9c.lambda_lw)\n",
    "Rb_pol = E9pol.alpha_s_Rb_5S1o2(E9c.lambda_lw)\n",
    "KRb_pol_ratio = K_pol / Rb_pol\n",
    "print(\"K polarizability is {:.4f} that of Rb polarizability\".format(KRb_pol_ratio))"
   ]
  },
  {
   "cell_type": "markdown",
   "metadata": {},
   "source": [
    "# Loss rates"
   ]
  },
  {
   "cell_type": "markdown",
   "metadata": {},
   "source": [
    "## Simplified case - harmonic potential, no gravity"
   ]
  },
  {
   "cell_type": "code",
   "execution_count": 3,
   "metadata": {},
   "outputs": [],
   "source": [
    "# Inputs\n",
    "wbar_Rb = 2 * np.pi * 200                   # Rb trap frequency in rad * Hz\n",
    "wbar_K = wbar_Rb * np.sqrt(KRb_pol_ratio)   # K trap frequency in rad * Hz (note the sqrt)\n",
    "N_Rb = 1e7                                  # Rb atom number\n",
    "N_K = 5e5                                   # K atom number\n",
    "T = 3e-6                                    # Temperature in K"
   ]
  },
  {
   "cell_type": "code",
   "execution_count": 4,
   "metadata": {},
   "outputs": [
    {
     "name": "stdout",
     "output_type": "stream",
     "text": [
      "Rb loss rate at trap center due to BBB = 7.39e+00 Hz\n",
      "Rb loss rate at trap center due to BBF = 2.40e-01 Hz\n",
      "K loss rate at trap center due to BBF = 1.88e+01 Hz\n"
     ]
    }
   ],
   "source": [
    "n_max_Rb = E9ct.n_peak_har(N_Rb, wbar_Rb, T, Rb_atom.mass)\n",
    "n_max_K = E9ct.n_peak_har(N_K, wbar_K, T, K_atom.mass)\n",
    "gamma_BBB_loss_Rb = E9c.G3loss_Rb87_F2mF2 * n_max_Rb**2\n",
    "gamma_BBF_loss_Rb = E9c.G3loss_Rb87_K40 * n_max_Rb * n_max_K\n",
    "gamma_BBF_loss_K = E9c.G3loss_Rb87_K40 * n_max_Rb**2\n",
    "print(\"Rb loss rate at trap center due to BBB = {:.2e} Hz\".format(gamma_BBB_loss_Rb))\n",
    "print(\"Rb loss rate at trap center due to BBF = {:.2e} Hz\".format(gamma_BBF_loss_Rb))\n",
    "print(\"K loss rate at trap center due to BBF = {:.2e} Hz\".format(gamma_BBF_loss_K))"
   ]
  },
  {
   "cell_type": "markdown",
   "metadata": {},
   "source": [
    "# Trap potentials\n",
    "Conventions:\n",
    "* x-axis: EW\n",
    "    * ODTa is +30 degrees rotated from the x-axis, and ODTb -30 degrees\n",
    "* y-axis: NS\n",
    "* z-axis: gravity\n",
    "* r-axis: radial (of one of the ODT; use ra / rb if it is important to differentiate the two)\n",
    "* l-axis: optical axis (of one of the ODT)"
   ]
  },
  {
   "cell_type": "markdown",
   "metadata": {},
   "source": [
    "## ODTs"
   ]
  },
  {
   "cell_type": "markdown",
   "metadata": {},
   "source": [
    "### Inputs"
   ]
  },
  {
   "cell_type": "code",
   "execution_count": 5,
   "metadata": {},
   "outputs": [],
   "source": [
    "pwr_ODTa = 3                    # [W] ODT power at atoms\n",
    "pwr_ODTb = 1                    # [W] ODT power at atoms\n",
    "w0_ODTa_hori = E9c.w0_ODTa_hori # ODTa horizontal beam waist\n",
    "w0_ODTa_vert = E9c.w0_ODTa_vert # ODTa vertial beam waist\n",
    "w0_ODTb_hori = E9c.w0_ODTb_hori # ODTb horizontal beam waist\n",
    "w0_ODTb_vert = E9c.w0_ODTb_vert # ODTb vertial beam waist"
   ]
  },
  {
   "cell_type": "markdown",
   "metadata": {},
   "source": [
    "### Find basic ODT parameters from inputs"
   ]
  },
  {
   "cell_type": "code",
   "execution_count": 6,
   "metadata": {},
   "outputs": [
    {
     "name": "stdout",
     "output_type": "stream",
     "text": [
      "Rayleigh range of the two ODTs:\n",
      "    ODTa_x =  32.5527 mm\n",
      "    ODTa_y =   2.0423 mm\n",
      "    ODTb_x =   7.6798 mm\n",
      "    ODTb_y =  14.8842 mm\n",
      "V_ODTa_Rb =  -105.3783 uK\n",
      "V_ODTa_K  =   -92.1541 uK\n",
      "V_ODTb_Rb =   -26.7884 uK\n",
      "V_ODTb_K  =   -23.4266 uK\n"
     ]
    }
   ],
   "source": [
    "I_ODTa_max = util.I_from_power(pwr_ODTa, w0_ODTa_hori, w0_ODTa_vert)\n",
    "I_ODTb_max = util.I_from_power(pwr_ODTb, w0_ODTb_hori, w0_ODTb_vert)\n",
    "\n",
    "# V_ODTa_FS = E9ct.V0_from_I(E9c.gamma_Rb87_D2, (E9c.nu_Rb87_4_2P3o2 + E9c.nu_Rb87_4_2P1o2)/2,\n",
    "#                       E9c.f_lw, I_ODTa_max, E9a.Rb87_5_2S1o2_F2.gF, 2)  # only consider D1 and D2 line\n",
    "V_uK_ODTa_Rb = E9pol.I2uK_from_pol(I_ODTa_max, Rb_pol)\n",
    "V_uK_ODTa_K = E9pol.I2uK_from_pol(I_ODTa_max, K_pol)\n",
    "V_uK_ODTb_Rb = E9pol.I2uK_from_pol(I_ODTb_max, Rb_pol)\n",
    "V_uK_ODTb_K = E9pol.I2uK_from_pol(I_ODTb_max, K_pol)\n",
    "\n",
    "print(\"Rayleigh range of the two ODTs:\")\n",
    "print(\"    ODTa_x = {: 8.4f} mm\".format(util.rayleigh_range(w0_ODTa_hori, E9c.lambda_lw) * 1e3))\n",
    "print(\"    ODTa_y = {: 8.4f} mm\".format(util.rayleigh_range(w0_ODTa_vert, E9c.lambda_lw) * 1e3))\n",
    "print(\"    ODTb_x = {: 8.4f} mm\".format(util.rayleigh_range(w0_ODTb_hori, E9c.lambda_lw) * 1e3))\n",
    "print(\"    ODTb_y = {: 8.4f} mm\".format(util.rayleigh_range(w0_ODTb_vert, E9c.lambda_lw) * 1e3))\n",
    "print(\"V_ODTa_Rb = {: 10.4f} uK\".format(V_uK_ODTa_Rb))\n",
    "print(\"V_ODTa_K  = {: 10.4f} uK\".format(V_uK_ODTa_K))\n",
    "print(\"V_ODTb_Rb = {: 10.4f} uK\".format(V_uK_ODTb_Rb))\n",
    "print(\"V_ODTb_K  = {: 10.4f} uK\".format(V_uK_ODTb_K))\n",
    "\n",
    "# TODO: find effective trap frequency here"
   ]
  },
  {
   "cell_type": "markdown",
   "metadata": {},
   "source": [
    "### Plot the effective harmonic potential\n",
    "TODO: Probably better to find an explicit expression of curvature"
   ]
  },
  {
   "cell_type": "code",
   "execution_count": null,
   "metadata": {},
   "outputs": [],
   "source": [
    "x_range_trap = np.linspace(-300, 300, 15000) * 1e-6\n",
    "y_range_trap = np.linspace(-200, 200, 10000) * 1e-6\n",
    "z_range_trap = np.linspace(-100, 100,  5000) * 1e-6"
   ]
  },
  {
   "cell_type": "code",
   "execution_count": null,
   "metadata": {},
   "outputs": [],
   "source": [
    "theta_ODTa = 30 * (np.pi / 180)\n",
    "theta_ODTb = -theta_ODTa # by convention (to make use of symmetries)\n",
    "\n",
    "# x-axis\n",
    "l_x_range_ODTs = x_range_trap * np.cos(theta_ODTa)\n",
    "r_x_range_ODTs = x_range_trap * np.sin(theta_ODTa)\n",
    "l_y_range_ODTs = - y_range_trap * np.sin(theta_ODTa)\n",
    "r_y_range_ODTs = y_range_trap * np.cos(theta_ODTa)\n",
    "\n",
    "norm_V_uK_x_ODTa = util.I_gaussian_beam_3D(E9c.lambda_lw, r_x_range_ODTs, l_x_range_ODTs, w0_ODTa_hori, w0_ODTa_vert, theta = 0)\n",
    "norm_V_uK_x_ODTb = util.I_gaussian_beam_3D(E9c.lambda_lw, r_x_range_ODTs, l_x_range_ODTs, w0_ODTb_hori, w0_ODTb_vert, theta = 0)\n",
    "norm_V_uK_y_ODTa = util.I_gaussian_beam_3D(E9c.lambda_lw, r_y_range_ODTs, l_y_range_ODTs, w0_ODTa_hori, w0_ODTa_vert, theta = 0)\n",
    "norm_V_uK_y_ODTb = util.I_gaussian_beam_3D(E9c.lambda_lw, r_y_range_ODTs, l_y_range_ODTs, w0_ODTb_hori, w0_ODTb_vert, theta = 0)\n",
    "norm_V_uK_z_ODTa = util.I_gaussian_beam_3D(E9c.lambda_lw, z_range_trap, 0., w0_ODTa_hori, w0_ODTa_vert, theta = np.pi / 2)\n",
    "norm_V_uK_z_ODTb = util.I_gaussian_beam_3D(E9c.lambda_lw, z_range_trap, 0., w0_ODTb_hori, w0_ODTb_vert, theta = np.pi / 2)\n",
    "V_uK_Rb_x_ODTa = V_uK_ODTa_Rb * norm_V_uK_x_ODTa\n",
    "V_uK_Rb_x_ODTb = V_uK_ODTb_Rb * norm_V_uK_x_ODTb\n",
    "V_uK_Rb_y_ODTa = V_uK_ODTa_Rb * norm_V_uK_y_ODTa\n",
    "V_uK_Rb_y_ODTb = V_uK_ODTb_Rb * norm_V_uK_y_ODTb\n",
    "V_uK_Rb_z_ODTa = V_uK_ODTa_Rb * norm_V_uK_z_ODTa\n",
    "V_uK_Rb_z_ODTb = V_uK_ODTb_Rb * norm_V_uK_z_ODTb\n",
    "V_uK_K_x_ODTa = V_uK_ODTa_K * norm_V_uK_x_ODTa\n",
    "V_uK_K_x_ODTb = V_uK_ODTb_K * norm_V_uK_x_ODTb\n",
    "V_uK_K_y_ODTa = V_uK_ODTa_K * norm_V_uK_y_ODTa\n",
    "V_uK_K_y_ODTb = V_uK_ODTb_K * norm_V_uK_y_ODTb\n",
    "V_uK_K_z_ODTa = V_uK_ODTa_K * norm_V_uK_z_ODTa\n",
    "V_uK_K_z_ODTb = V_uK_ODTb_K * norm_V_uK_z_ODTb\n",
    "V_uK_Rb_x = V_uK_Rb_x_ODTa + V_uK_Rb_x_ODTb\n",
    "V_uK_Rb_y = V_uK_Rb_y_ODTa + V_uK_Rb_y_ODTb\n",
    "V_uK_Rb_z = V_uK_Rb_z_ODTa + V_uK_Rb_z_ODTb\n",
    "V_uK_K_x = V_uK_K_x_ODTa + V_uK_K_x_ODTb\n",
    "V_uK_K_y = V_uK_K_y_ODTa + V_uK_K_y_ODTb\n",
    "V_uK_K_z = V_uK_K_z_ODTa + V_uK_K_z_ODTb\n",
    "\n",
    "# y-axis\n",
    "l_y_range_ODTs = y_range_trap * np.sin(theta_ODTa)\n",
    "r_y_range_ODTs = y_range_trap * np.cos(theta_ODTa)\n",
    "\n",
    "# z-axis\n",
    "r_z_range_ODTs = z_range_trap\n"
   ]
  },
  {
   "cell_type": "markdown",
   "metadata": {},
   "source": [
    "## Gravitational potential"
   ]
  },
  {
   "cell_type": "code",
   "execution_count": 9,
   "metadata": {},
   "outputs": [],
   "source": [
    "# No input"
   ]
  },
  {
   "cell_type": "markdown",
   "metadata": {},
   "source": [
    "## Plot"
   ]
  },
  {
   "cell_type": "code",
   "execution_count": null,
   "metadata": {},
   "outputs": [],
   "source": [
    "# Plot\n",
    "fig_y0z0cut, ax_y0z0cut = plt.subplots(1, 1)\n",
    "x_range_um = x_range_trap * 1e6\n",
    "ax_y0z0cut.plot(x_range_um, V_uK_Rb_tot_xz[z0_index], color = Rb_plot_color, label = \"Rb\")\n",
    "ax_y0z0cut.plot(x_range_um, V_uK_Rb_B_xz[z0_index], ls = \"--\", color = Rb_plot_color, alpha = 0.5)\n",
    "ax_y0z0cut.plot(x_near_Vmin_y0z0_Rb * 1e6, V_uK_Rb_ho_y0z0, ls = \":\", color = Rb_plot_color)\n",
    "ax_y0z0cut.plot(x_range_um, V_uK_K_tot_xz[z0_index], color = K_plot_color, label = \"K\")\n",
    "ax_y0z0cut.plot(x_range_um, V_uK_K_B_xz[z0_index], ls = \"--\", color = K_plot_color, alpha = 0.5)\n",
    "ax_y0z0cut.plot(x_near_Vmin_y0z0_K * 1e6, V_uK_K_ho_y0z0, ls = \":\", color = K_plot_color)\n",
    "ax_y0z0cut.set_ylim([0, 200])\n",
    "ax_y0z0cut.set_xlabel(\"x [um]\")\n",
    "ax_y0z0cut.set_ylabel(\"V [uK]\")\n",
    "ax_y0z0cut.legend()\n",
    "ax_y0z0cut.set_title(\"y = 0, z = 0\")\n",
    "fig_y0z0cut.suptitle(fig_title_trap_params)"
   ]
  },
  {
   "cell_type": "markdown",
   "metadata": {},
   "source": [
    "## Initialize trap geometry"
   ]
  },
  {
   "cell_type": "code",
   "execution_count": null,
   "metadata": {},
   "outputs": [],
   "source": []
  }
 ],
 "metadata": {
  "kernelspec": {
   "display_name": ".venv",
   "language": "python",
   "name": "python3"
  },
  "language_info": {
   "codemirror_mode": {
    "name": "ipython",
    "version": 3
   },
   "file_extension": ".py",
   "mimetype": "text/x-python",
   "name": "python",
   "nbconvert_exporter": "python",
   "pygments_lexer": "ipython3",
   "version": "3.11.4"
  }
 },
 "nbformat": 4,
 "nbformat_minor": 2
}
