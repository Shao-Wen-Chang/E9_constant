{
 "cells": [
  {
   "cell_type": "code",
   "execution_count": 1,
   "metadata": {},
   "outputs": [
    {
     "name": "stderr",
     "output_type": "stream",
     "text": [
      "c:\\Users\\ken92\\Documents\\Studies\\E5\\simulation\\E9_simulations\\.venv\\Lib\\site-packages\\gftool\\precision.py:16: UserWarning: No quad precision datatypes available!\n",
      "Some functions might be less accurate.\n",
      "  warnings.warn(\"No quad precision datatypes available!\\n\"\n"
     ]
    }
   ],
   "source": [
    "# import all the E9 stuff\n",
    "import logging\n",
    "import numpy as np\n",
    "import matplotlib.pyplot as plt\n",
    "import sys\n",
    "from pathlib import Path\n",
    "\n",
    "# User defined modules\n",
    "E9path = Path(\"C:/\", \"Users\", \"ken92\", \"Documents\", \"Studies\", \"E5\", \"simulation\", \"E9_simulations\")\n",
    "if str(E9path) not in sys.path:\n",
    "    sys.path.insert(1, str(E9path))\n",
    "import E9_fn.E9_constants as E9c\n",
    "import E9_fn.E9_atom as E9a\n",
    "import E9_fn.E9_cooltrap as E9ct\n",
    "import E9_fn.polarizabilities_calculation as E9pol\n",
    "import E9_fn.datasets.transition_line_data as TLData\n",
    "from E9_fn import util\n",
    "\n",
    "# Logging\n",
    "logpath = '' # '' if not logging to a file\n",
    "loglevel = logging.INFO\n",
    "logroot = logging.getLogger()\n",
    "list(map(logroot.removeHandler, logroot.handlers))\n",
    "list(map(logroot.removeFilter, logroot.filters))\n",
    "logging.basicConfig(filename = logpath, level = loglevel)"
   ]
  },
  {
   "cell_type": "markdown",
   "metadata": {},
   "source": [
    "# Polarizabilities of K and Rb"
   ]
  },
  {
   "cell_type": "code",
   "execution_count": 2,
   "metadata": {},
   "outputs": [
    {
     "name": "stderr",
     "output_type": "stream",
     "text": [
      "INFO:root:K_4S1o2_3D5o2 transition does not have f_ik data (not E1 allowed?)\n",
      "INFO:root:K_4S1o2_3D5o2 transition does not have f_ik data (not E1 allowed?)\n",
      "INFO:root:K_4S1o2_4D5o2 transition does not have f_ik data (not E1 allowed?)\n",
      "INFO:root:K_4S1o2_4D3o2 transition does not have f_ik data (not E1 allowed?)\n"
     ]
    },
    {
     "name": "stdout",
     "output_type": "stream",
     "text": [
      "K polarizability is 0.8745 that of Rb polarizability\n"
     ]
    }
   ],
   "source": [
    "K_pol = E9pol.alpha_s_K_4S1o2(E9c.lambda_lw)\n",
    "Rb_pol = E9pol.alpha_s_Rb_5S1o2(E9c.lambda_lw)\n",
    "print(\"K polarizability is {:.4f} that of Rb polarizability\".format(K_pol / Rb_pol))"
   ]
  },
  {
   "cell_type": "markdown",
   "metadata": {},
   "source": [
    "# Trap potentials"
   ]
  },
  {
   "cell_type": "markdown",
   "metadata": {},
   "source": [
    "## ODTs"
   ]
  },
  {
   "cell_type": "markdown",
   "metadata": {},
   "source": [
    "### Inputs"
   ]
  },
  {
   "cell_type": "code",
   "execution_count": null,
   "metadata": {},
   "outputs": [],
   "source": [
    "pwr_ODTa = 3     # [W] ODT power at atoms\n",
    "pwr_ODTb = 1     # [W] ODT power at atoms\n",
    "w0_ODT = E9c.w0_ODT  # ODT waist (not using the value I have in E9_constants)"
   ]
  },
  {
   "cell_type": "markdown",
   "metadata": {},
   "source": [
    "### Find basic ODT parameters from inputs"
   ]
  },
  {
   "cell_type": "code",
   "execution_count": 4,
   "metadata": {},
   "outputs": [
    {
     "name": "stdout",
     "output_type": "stream",
     "text": [
      "Rayleigh range of the two ODTs = 7.3816 mm\n",
      "V_ODTa_Rb = -116.4009 uK\n",
      "V_ODTa_K = -101.7934 uK\n",
      "V_ODTb_Rb = -38.8003 uK\n",
      "V_ODTb_K = -33.9311 uK\n"
     ]
    }
   ],
   "source": [
    "I_ODTa_max = util.I_from_power(pwr_ODTa, w0_ODT)\n",
    "I_ODTb_max = util.I_from_power(pwr_ODTb, w0_ODT)\n",
    "\n",
    "# V_ODTa_FS = E9ct.V0_from_I(E9c.gamma_Rb87_D2, (E9c.nu_Rb87_4_2P3o2 + E9c.nu_Rb87_4_2P1o2)/2,\n",
    "#                       E9c.f_lw, I_ODTa_max, E9a.Rb87_5_2S1o2_F2.gF, 2)  # only consider D1 and D2 line\n",
    "V_uK_ODTa_Rb = E9pol.I2uK_from_pol(I_ODTa_max, Rb_pol)\n",
    "V_uK_ODTa_K = E9pol.I2uK_from_pol(I_ODTa_max, K_pol)\n",
    "V_uK_ODTb_Rb = E9pol.I2uK_from_pol(I_ODTb_max, Rb_pol)\n",
    "V_uK_ODTb_K = E9pol.I2uK_from_pol(I_ODTb_max, K_pol)\n",
    "\n",
    "print(\"Rayleigh range of the two ODTs = {:.4f} mm\".format(util.rayleigh_range(w0_ODT, E9c.lambda_lw) * 1e3))\n",
    "print(\"V_ODTa_Rb = {:.4f} uK\".format(V_uK_ODTa_Rb))\n",
    "print(\"V_ODTa_K = {:.4f} uK\".format(V_uK_ODTa_K))\n",
    "print(\"V_ODTb_Rb = {:.4f} uK\".format(V_uK_ODTb_Rb))\n",
    "print(\"V_ODTb_K = {:.4f} uK\".format(V_uK_ODTb_K))"
   ]
  },
  {
   "cell_type": "markdown",
   "metadata": {},
   "source": [
    "### Find the effective harmonic potential"
   ]
  },
  {
   "cell_type": "code",
   "execution_count": null,
   "metadata": {},
   "outputs": [],
   "source": []
  },
  {
   "cell_type": "markdown",
   "metadata": {},
   "source": [
    "## Gravitational potential"
   ]
  },
  {
   "cell_type": "code",
   "execution_count": 5,
   "metadata": {},
   "outputs": [],
   "source": [
    "# No input"
   ]
  },
  {
   "cell_type": "code",
   "execution_count": null,
   "metadata": {},
   "outputs": [],
   "source": []
  },
  {
   "cell_type": "markdown",
   "metadata": {},
   "source": [
    "## Initialize trap geometry"
   ]
  },
  {
   "cell_type": "code",
   "execution_count": null,
   "metadata": {},
   "outputs": [],
   "source": []
  }
 ],
 "metadata": {
  "kernelspec": {
   "display_name": ".venv",
   "language": "python",
   "name": "python3"
  },
  "language_info": {
   "codemirror_mode": {
    "name": "ipython",
    "version": 3
   },
   "file_extension": ".py",
   "mimetype": "text/x-python",
   "name": "python",
   "nbconvert_exporter": "python",
   "pygments_lexer": "ipython3",
   "version": "3.11.4"
  }
 },
 "nbformat": 4,
 "nbformat_minor": 2
}
