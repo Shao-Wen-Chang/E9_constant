{
 "cells": [
  {
   "cell_type": "code",
   "execution_count": 1,
   "metadata": {},
   "outputs": [
    {
     "name": "stderr",
     "output_type": "stream",
     "text": [
      "c:\\Users\\ken92\\Documents\\Studies\\E5\\simulation\\E9_simulations\\.venv\\Lib\\site-packages\\gftool\\precision.py:16: UserWarning: No quad precision datatypes available!\n",
      "Some functions might be less accurate.\n",
      "  warnings.warn(\"No quad precision datatypes available!\\n\"\n"
     ]
    }
   ],
   "source": [
    "# import all the E9 stuff\n",
    "import logging\n",
    "import numpy as np\n",
    "import matplotlib.pyplot as plt\n",
    "import sys\n",
    "from pathlib import Path\n",
    "\n",
    "# User defined modules\n",
    "E9path = Path(\"C:/\", \"Users\", \"ken92\", \"Documents\", \"Studies\", \"E5\", \"simulation\", \"E9_simulations\")\n",
    "if str(E9path) not in sys.path:\n",
    "    sys.path.insert(1, str(E9path))\n",
    "import E9_fn.E9_constants as E9c\n",
    "import E9_fn.E9_atom as E9a\n",
    "import E9_fn.E9_cooltrap as E9ct\n",
    "import E9_fn.polarizabilities_calculation as E9pol\n",
    "# import E9_fn.datasets.transition_line_data as TLData\n",
    "from E9_fn import util\n",
    "\n",
    "# Logging\n",
    "logpath = '' # '' if not logging to a file\n",
    "loglevel = logging.INFO\n",
    "logroot = logging.getLogger()\n",
    "list(map(logroot.removeHandler, logroot.handlers))\n",
    "list(map(logroot.removeFilter, logroot.filters))\n",
    "logging.basicConfig(filename = logpath, level = loglevel)"
   ]
  },
  {
   "cell_type": "markdown",
   "metadata": {},
   "source": [
    "# Atom stuff"
   ]
  },
  {
   "cell_type": "code",
   "execution_count": 2,
   "metadata": {},
   "outputs": [
    {
     "name": "stderr",
     "output_type": "stream",
     "text": [
      "INFO:root:K_4S1o2_3D5o2 transition does not have f_ik data (not E1 allowed?)\n",
      "INFO:root:K_4S1o2_3D5o2 transition does not have f_ik data (not E1 allowed?)\n",
      "INFO:root:K_4S1o2_4D5o2 transition does not have f_ik data (not E1 allowed?)\n",
      "INFO:root:K_4S1o2_4D3o2 transition does not have f_ik data (not E1 allowed?)\n"
     ]
    },
    {
     "name": "stdout",
     "output_type": "stream",
     "text": [
      "K polarizability is 0.8745 that of Rb polarizability\n"
     ]
    }
   ],
   "source": [
    "Rb_atom = E9a.Rb87_5_2S1o2_F2\n",
    "mu_Rb = E9c.mu_B * Rb_atom.gF * 2   # 2 here is mF = 2; sign is V = mu * B\n",
    "K_atom = E9a.K40_4_2S1o2_F9o2\n",
    "mu_K = E9c.mu_B * K_atom.gF * 9/2\n",
    "\n",
    "# Polarizabilities\n",
    "K_pol = E9pol.alpha_s_K_4S1o2(E9c.lambda_lw)\n",
    "Rb_pol = E9pol.alpha_s_Rb_5S1o2(E9c.lambda_lw)\n",
    "KRb_pol_ratio = K_pol / Rb_pol\n",
    "print(\"K polarizability is {:.4f} that of Rb polarizability\".format(KRb_pol_ratio))"
   ]
  },
  {
   "cell_type": "markdown",
   "metadata": {},
   "source": [
    "# Loss rates"
   ]
  },
  {
   "cell_type": "markdown",
   "metadata": {},
   "source": [
    "## Simplified case - harmonic potential, no gravity"
   ]
  },
  {
   "cell_type": "code",
   "execution_count": 18,
   "metadata": {},
   "outputs": [],
   "source": [
    "# Inputs\n",
    "wbar_Rb = 2 * np.pi * 200                   # Rb trap frequency in rad * Hz\n",
    "wbar_K = wbar_Rb * np.sqrt(KRb_pol_ratio)   # K trap frequency in rad * Hz (note the sqrt)\n",
    "N_Rb = 1e7                                  # Rb atom number\n",
    "N_K = 5e5                                   # K atom number\n",
    "T = 3e-6                                    # Temperature in K"
   ]
  },
  {
   "cell_type": "code",
   "execution_count": 19,
   "metadata": {},
   "outputs": [
    {
     "name": "stdout",
     "output_type": "stream",
     "text": [
      "Rb loss rate at trap center due to BBB = 7.39e+00 Hz\n",
      "Rb loss rate at trap center due to BBF = 2.40e-01 Hz\n",
      "K loss rate at trap center due to BBF = 1.88e+01 Hz\n"
     ]
    }
   ],
   "source": [
    "n_max_Rb = E9ct.n_peak_har(N_Rb, wbar_Rb, T, Rb_atom.mass)\n",
    "n_max_K = E9ct.n_peak_har(N_K, wbar_K, T, K_atom.mass)\n",
    "gamma_BBB_loss_Rb = E9c.G3loss_Rb87_F2mF2 * n_max_Rb**2\n",
    "gamma_BBF_loss_Rb = E9c.G3loss_Rb87_K40 * n_max_Rb * n_max_K\n",
    "gamma_BBF_loss_K = E9c.G3loss_Rb87_K40 * n_max_Rb**2\n",
    "print(\"Rb loss rate at trap center due to BBB = {:.2e} Hz\".format(gamma_BBB_loss_Rb))\n",
    "print(\"Rb loss rate at trap center due to BBF = {:.2e} Hz\".format(gamma_BBF_loss_Rb))\n",
    "print(\"K loss rate at trap center due to BBF = {:.2e} Hz\".format(gamma_BBF_loss_K))"
   ]
  },
  {
   "cell_type": "markdown",
   "metadata": {},
   "source": [
    "# Trap potentials"
   ]
  },
  {
   "cell_type": "markdown",
   "metadata": {},
   "source": [
    "## ODTs"
   ]
  },
  {
   "cell_type": "markdown",
   "metadata": {},
   "source": [
    "### Inputs\n",
    "Conventions:\n",
    "* x-axis: EW\n",
    "** ODTa is 30 degree rotated from the x-axis\n",
    "* y-axis: NS\n",
    "* z-axis: gravity\n",
    "* r-axis: radial (of one of the ODT; use ra / rb if it is important to differentiate the two)\n",
    "* l-axis: optical axis (of one of the ODT)"
   ]
  },
  {
   "cell_type": "code",
   "execution_count": 20,
   "metadata": {},
   "outputs": [],
   "source": [
    "pwr_ODTa = 3     # [W] ODT power at atoms\n",
    "pwr_ODTb = 1     # [W] ODT power at atoms\n",
    "w0_ODT = E9c.w0_ODT  # ODT waist (not using the value I have in E9_constants)\n",
    "# TODO: Maybe add the possibility to displace ODTb wrt ODTa"
   ]
  },
  {
   "cell_type": "markdown",
   "metadata": {},
   "source": [
    "### Find basic ODT parameters from inputs"
   ]
  },
  {
   "cell_type": "code",
   "execution_count": 21,
   "metadata": {},
   "outputs": [
    {
     "name": "stdout",
     "output_type": "stream",
     "text": [
      "Rayleigh range of the two ODTs = 7.3816 mm\n",
      "V_ODTa_Rb = -116.4009 uK\n",
      "V_ODTa_K = -101.7934 uK\n",
      "V_ODTb_Rb = -38.8003 uK\n",
      "V_ODTb_K = -33.9311 uK\n"
     ]
    }
   ],
   "source": [
    "I_ODTa_max = util.I_from_power(pwr_ODTa, w0_ODT)\n",
    "I_ODTb_max = util.I_from_power(pwr_ODTb, w0_ODT)\n",
    "\n",
    "# V_ODTa_FS = E9ct.V0_from_I(E9c.gamma_Rb87_D2, (E9c.nu_Rb87_4_2P3o2 + E9c.nu_Rb87_4_2P1o2)/2,\n",
    "#                       E9c.f_lw, I_ODTa_max, E9a.Rb87_5_2S1o2_F2.gF, 2)  # only consider D1 and D2 line\n",
    "V_uK_ODTa_Rb = E9pol.I2uK_from_pol(I_ODTa_max, Rb_pol)\n",
    "V_uK_ODTa_K = E9pol.I2uK_from_pol(I_ODTa_max, K_pol)\n",
    "V_uK_ODTb_Rb = E9pol.I2uK_from_pol(I_ODTb_max, Rb_pol)\n",
    "V_uK_ODTb_K = E9pol.I2uK_from_pol(I_ODTb_max, K_pol)\n",
    "\n",
    "print(\"Rayleigh range of the two ODTs = {:.4f} mm\".format(util.rayleigh_range(w0_ODT, E9c.lambda_lw) * 1e3))\n",
    "print(\"V_ODTa_Rb = {:.4f} uK\".format(V_uK_ODTa_Rb))\n",
    "print(\"V_ODTa_K = {:.4f} uK\".format(V_uK_ODTa_K))\n",
    "print(\"V_ODTb_Rb = {:.4f} uK\".format(V_uK_ODTb_Rb))\n",
    "print(\"V_ODTb_K = {:.4f} uK\".format(V_uK_ODTb_K))\n",
    "\n",
    "# TODO: find effective trap frequency here"
   ]
  },
  {
   "cell_type": "markdown",
   "metadata": {},
   "source": [
    "### Plot the effective harmonic potential\n",
    "TODO: Probably better to find an explicit expression of curvature"
   ]
  },
  {
   "cell_type": "code",
   "execution_count": 22,
   "metadata": {},
   "outputs": [
    {
     "ename": "TypeError",
     "evalue": "'float' object cannot be interpreted as an integer",
     "output_type": "error",
     "traceback": [
      "\u001b[1;31m---------------------------------------------------------------------------\u001b[0m",
      "\u001b[1;31mTypeError\u001b[0m                                 Traceback (most recent call last)",
      "Cell \u001b[1;32mIn[22], line 1\u001b[0m\n\u001b[1;32m----> 1\u001b[0m x_range_trap \u001b[38;5;241m=\u001b[39m \u001b[43mnp\u001b[49m\u001b[38;5;241;43m.\u001b[39;49m\u001b[43mlinspace\u001b[49m\u001b[43m(\u001b[49m\u001b[38;5;241;43m-\u001b[39;49m\u001b[38;5;241;43m200\u001b[39;49m\u001b[43m,\u001b[49m\u001b[43m \u001b[49m\u001b[38;5;241;43m200\u001b[39;49m\u001b[43m,\u001b[49m\u001b[43m \u001b[49m\u001b[38;5;241;43m1e4\u001b[39;49m\u001b[43m)\u001b[49m \u001b[38;5;241m*\u001b[39m \u001b[38;5;241m1e-6\u001b[39m\n\u001b[0;32m      2\u001b[0m y_range_trap \u001b[38;5;241m=\u001b[39m np\u001b[38;5;241m.\u001b[39mlinspace(\u001b[38;5;241m-\u001b[39m\u001b[38;5;241m200\u001b[39m, \u001b[38;5;241m200\u001b[39m, \u001b[38;5;241m1e4\u001b[39m) \u001b[38;5;241m*\u001b[39m \u001b[38;5;241m1e-6\u001b[39m\n\u001b[0;32m      3\u001b[0m z_range_trap \u001b[38;5;241m=\u001b[39m np\u001b[38;5;241m.\u001b[39mlinspace(\u001b[38;5;241m-\u001b[39m\u001b[38;5;241m200\u001b[39m, \u001b[38;5;241m200\u001b[39m, \u001b[38;5;241m1e4\u001b[39m) \u001b[38;5;241m*\u001b[39m \u001b[38;5;241m1e-6\u001b[39m\n",
      "File \u001b[1;32mc:\\Users\\ken92\\Documents\\Studies\\E5\\simulation\\E9_simulations\\.venv\\Lib\\site-packages\\numpy\\_core\\function_base.py:127\u001b[0m, in \u001b[0;36mlinspace\u001b[1;34m(start, stop, num, endpoint, retstep, dtype, axis, device)\u001b[0m\n\u001b[0;32m     25\u001b[0m \u001b[38;5;129m@array_function_dispatch\u001b[39m(_linspace_dispatcher)\n\u001b[0;32m     26\u001b[0m \u001b[38;5;28;01mdef\u001b[39;00m \u001b[38;5;21mlinspace\u001b[39m(start, stop, num\u001b[38;5;241m=\u001b[39m\u001b[38;5;241m50\u001b[39m, endpoint\u001b[38;5;241m=\u001b[39m\u001b[38;5;28;01mTrue\u001b[39;00m, retstep\u001b[38;5;241m=\u001b[39m\u001b[38;5;28;01mFalse\u001b[39;00m, dtype\u001b[38;5;241m=\u001b[39m\u001b[38;5;28;01mNone\u001b[39;00m,\n\u001b[0;32m     27\u001b[0m              axis\u001b[38;5;241m=\u001b[39m\u001b[38;5;241m0\u001b[39m, \u001b[38;5;241m*\u001b[39m, device\u001b[38;5;241m=\u001b[39m\u001b[38;5;28;01mNone\u001b[39;00m):\n\u001b[0;32m     28\u001b[0m \u001b[38;5;250m    \u001b[39m\u001b[38;5;124;03m\"\"\"\u001b[39;00m\n\u001b[0;32m     29\u001b[0m \u001b[38;5;124;03m    Return evenly spaced numbers over a specified interval.\u001b[39;00m\n\u001b[0;32m     30\u001b[0m \n\u001b[1;32m   (...)\u001b[0m\n\u001b[0;32m    125\u001b[0m \n\u001b[0;32m    126\u001b[0m \u001b[38;5;124;03m    \"\"\"\u001b[39;00m\n\u001b[1;32m--> 127\u001b[0m     num \u001b[38;5;241m=\u001b[39m operator\u001b[38;5;241m.\u001b[39mindex(num)\n\u001b[0;32m    128\u001b[0m     \u001b[38;5;28;01mif\u001b[39;00m num \u001b[38;5;241m<\u001b[39m \u001b[38;5;241m0\u001b[39m:\n\u001b[0;32m    129\u001b[0m         \u001b[38;5;28;01mraise\u001b[39;00m \u001b[38;5;167;01mValueError\u001b[39;00m(\n\u001b[0;32m    130\u001b[0m             \u001b[38;5;124m\"\u001b[39m\u001b[38;5;124mNumber of samples, \u001b[39m\u001b[38;5;132;01m%s\u001b[39;00m\u001b[38;5;124m, must be non-negative.\u001b[39m\u001b[38;5;124m\"\u001b[39m \u001b[38;5;241m%\u001b[39m num\n\u001b[0;32m    131\u001b[0m         )\n",
      "\u001b[1;31mTypeError\u001b[0m: 'float' object cannot be interpreted as an integer"
     ]
    }
   ],
   "source": [
    "x_range_trap = np.linspace(-200, 200, 1e4) * 1e-6\n",
    "y_range_trap = np.linspace(-200, 200, 1e4) * 1e-6\n",
    "z_range_trap = np.linspace(-200, 200, 1e4) * 1e-6\n"
   ]
  },
  {
   "cell_type": "code",
   "execution_count": null,
   "metadata": {},
   "outputs": [],
   "source": [
    "theta_ODTa = 30 * (np.pi / 180)\n",
    "#theta_ODTb = -theta_ODTa by convention (to make use of symmetries)\n",
    "\n",
    "# x-axis\n",
    "l_x_range_ODTs = x_range_trap * np.cos(theta_ODTa)\n",
    "r_x_range_ODTs = x_range_trap * np.sin(theta_ODTa)\n",
    "\n",
    "V_uK_Rb_x_ODTa = V_uK_ODTa_Rb * util.I_gaussian_beam_3D(r_x_range_ODTs, l_x_range_ODTs, w0_ODT, E9c.lambda_lw)\n",
    "V_uK_Rb_x_ODTb = V_uK_ODTb_Rb * util.I_gaussian_beam_3D(r_x_range_ODTs, l_x_range_ODTs, w0_ODT, E9c.lambda_lw)\n",
    "V_uK_K_x_ODTa = V_uK_ODTa_K * util.I_gaussian_beam_3D(r_x_range_ODTs, l_x_range_ODTs, w0_ODT, E9c.lambda_lw)\n",
    "V_uK_K_x_ODTb = V_uK_ODTb_K * util.I_gaussian_beam_3D(r_x_range_ODTs, l_x_range_ODTs, w0_ODT, E9c.lambda_lw)\n",
    "V_uK_Rb_x = V_uK_Rb_x_ODTa + V_uK_Rb_x_ODTb\n",
    "V_uK_K_x = V_uK_K_x_ODTa + V_uK_K_x_ODTb\n",
    "\n",
    "\n",
    "# y-axis\n",
    "l_y_range_ODTs = y_range_trap * np.sin(theta_ODTa)\n",
    "r_y_range_ODTs = y_range_trap * np.cos(theta_ODTa)\n",
    "\n",
    "# z-axis\n",
    "r_z_range_ODTs = z_range_trap\n"
   ]
  },
  {
   "cell_type": "markdown",
   "metadata": {},
   "source": [
    "## Gravitational potential"
   ]
  },
  {
   "cell_type": "code",
   "execution_count": 5,
   "metadata": {},
   "outputs": [],
   "source": [
    "# No input"
   ]
  },
  {
   "cell_type": "code",
   "execution_count": null,
   "metadata": {},
   "outputs": [],
   "source": []
  },
  {
   "cell_type": "markdown",
   "metadata": {},
   "source": [
    "## Initialize trap geometry"
   ]
  },
  {
   "cell_type": "code",
   "execution_count": null,
   "metadata": {},
   "outputs": [],
   "source": []
  }
 ],
 "metadata": {
  "kernelspec": {
   "display_name": ".venv",
   "language": "python",
   "name": "python3"
  },
  "language_info": {
   "codemirror_mode": {
    "name": "ipython",
    "version": 3
   },
   "file_extension": ".py",
   "mimetype": "text/x-python",
   "name": "python",
   "nbconvert_exporter": "python",
   "pygments_lexer": "ipython3",
   "version": "3.11.4"
  }
 },
 "nbformat": 4,
 "nbformat_minor": 2
}
