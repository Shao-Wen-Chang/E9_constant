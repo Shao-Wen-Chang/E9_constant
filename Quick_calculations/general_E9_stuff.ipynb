{
 "cells": [
  {
   "cell_type": "code",
   "execution_count": 1,
   "metadata": {},
   "outputs": [],
   "source": [
    "# Usage guide:\n",
    "\n",
    "# This document is not kept on record. If the calcualtions are to be kept,\n",
    "# copy the whole notebook and put it in \"quick_calculations\" or appropriate\n",
    "# folders."
   ]
  },
  {
   "cell_type": "code",
   "execution_count": 2,
   "metadata": {},
   "outputs": [
    {
     "name": "stderr",
     "output_type": "stream",
     "text": [
      "c:\\Users\\ken92\\anaconda3\\envs\\spyder-env\\Lib\\site-packages\\gftool\\precision.py:16: UserWarning: No quad precision datatypes available!\n",
      "Some functions might be less accurate.\n",
      "  warnings.warn(\"No quad precision datatypes available!\\n\"\n"
     ]
    }
   ],
   "source": [
    "# import all the E9 stuff\n",
    "import logging\n",
    "import numpy as np\n",
    "import matplotlib.pyplot as plt\n",
    "import sys\n",
    "sys.path.insert(1,\n",
    "    \"C:\\\\Users\\\\ken92\\\\Documents\\\\Studies\\\\E5\\\\simulation\\\\E9_simulations\")\n",
    "import E9_fn.E9_constants as E9c\n",
    "import E9_fn.E9_numbers as E9n\n",
    "import E9_fn.E9_cooling as cool\n",
    "import E9_fn.polarizabilities_calculation as E9pol\n",
    "from E9_fn import util\n",
    "\n",
    "# Logging\n",
    "logpath = '' # '' if not logging to a file\n",
    "loglevel = logging.INFO\n",
    "logroot = logging.getLogger()\n",
    "list(map(logroot.removeHandler, logroot.handlers))\n",
    "list(map(logroot.removeFilter, logroot.filters))\n",
    "logging.basicConfig(filename = logpath, level = loglevel)"
   ]
  },
  {
   "cell_type": "code",
   "execution_count": 3,
   "metadata": {},
   "outputs": [
    {
     "name": "stdout",
     "output_type": "stream",
     "text": [
      "V_DMD = 82.09433987605135 kHz\n",
      "K_4S1o2_3D5o2 transition does not have f_ik data (not E1 allowed?)\n",
      "K_4S1o2_3D5o2 transition does not have f_ik data (not E1 allowed?)\n",
      "K_4S1o2_4D5o2 transition does not have f_ik data (not E1 allowed?)\n",
      "K_4S1o2_4D3o2 transition does not have f_ik data (not E1 allowed?)\n",
      "V_DMD = 73.9405425702114 kHz (from polarizibility)\n"
     ]
    }
   ],
   "source": [
    "# input parameters\n",
    "lambda_DMD = 638e-9     # wavelength used for DMD potential\n",
    "pwr_at_atom = 1         # power at atoms, in watts\n",
    "FoV_at_atom = 200e-6**2 # field of view (region illuminated) by the DMD\n",
    "\n",
    "I_at_atom = pwr_at_atom / FoV_at_atom\n",
    "f_DMD = E9c.c_light / lambda_DMD\n",
    "V_DMD = E9n.V0_from_I(E9c.gamma_40K_D2, (E9c.nu_K40_4_2P3o2 + E9c.nu_K40_4_2P1o2)/2,\n",
    "                      f_DMD, I_at_atom, E9n.K40_4_2S1o2_F9o2.gF, 9/2)\n",
    "print(\"V_DMD = {} kHz\".format(V_DMD / E9c.hnobar / 1000))\n",
    "\n",
    "# Polarizibility based calculation\n",
    "s_pol = E9pol.alpha_pol(0, lambda_DMD, E9pol.K_4S1o2_LOI, '4S1o2')\n",
    "print(\"V_DMD = {} kHz (from polarizibility)\".format(- s_pol * I_at_atom * E9c.Z_0 / 2 / E9c.hnobar / 1000))"
   ]
  },
  {
   "cell_type": "code",
   "execution_count": 7,
   "metadata": {},
   "outputs": [
    {
     "name": "stdout",
     "output_type": "stream",
     "text": [
      "7.532905935793225\n",
      "A_max = 4.052495215875869 G/cm\n"
     ]
    }
   ],
   "source": [
    "w_MOT = 6e-3\n",
    "I_MOT = 60e-3\n",
    "gamma_Yb174 = 182.4e3 * 2 * np.pi\n",
    "lambda_Yb174 = 555.8e-9\n",
    "m_Yb174 = 174 * E9c.m_u\n",
    "mu_Yb174 = 1.5 * E9c.mu_B\n",
    "v_MOT_actual = 5\n",
    "\n",
    "k_MOT = 2 * np.pi / lambda_Yb174\n",
    "v_MOT_max = np.sqrt(2 * E9c.hbar * k_MOT * gamma_Yb174 * w_MOT / m_Yb174)\n",
    "A_max = (E9c.hbar * k_MOT)**2 / (2 * m_Yb174) * gamma_Yb174 / (mu_Yb174 * v_MOT_actual)\n",
    "print(v_MOT_max)\n",
    "print(\"A_max = {} G/cm\".format(A_max * 100))"
   ]
  },
  {
   "cell_type": "code",
   "execution_count": null,
   "metadata": {},
   "outputs": [],
   "source": []
  }
 ],
 "metadata": {
  "kernelspec": {
   "display_name": "spyder-env",
   "language": "python",
   "name": "python3"
  },
  "language_info": {
   "codemirror_mode": {
    "name": "ipython",
    "version": 3
   },
   "file_extension": ".py",
   "mimetype": "text/x-python",
   "name": "python",
   "nbconvert_exporter": "python",
   "pygments_lexer": "ipython3",
   "version": "3.11.4"
  }
 },
 "nbformat": 4,
 "nbformat_minor": 2
}
