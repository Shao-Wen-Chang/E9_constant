{
 "cells": [
  {
   "cell_type": "code",
   "execution_count": 27,
   "metadata": {},
   "outputs": [],
   "source": [
    "# Usage guide:\n",
    "\n",
    "# This document is not kept on record. If the calcualtions are to be kept,\n",
    "# copy the whole notebook and put it in \"quick_calculations\" or appropriate\n",
    "# folders."
   ]
  },
  {
   "cell_type": "code",
   "execution_count": 28,
   "metadata": {},
   "outputs": [],
   "source": [
    "# import all the E9 stuff\n",
    "import logging\n",
    "import numpy as np\n",
    "import matplotlib.pyplot as plt\n",
    "import sys\n",
    "from pathlib import Path\n",
    "import time\n",
    "\n",
    "# User defined modules\n",
    "E9path = Path(\"C:/\", \"Users\", \"ken92\", \"Documents\", \"Studies\", \"E5\", \"simulation\", \"E9_simulations\")\n",
    "if str(E9path) not in sys.path:\n",
    "    sys.path.insert(1, str(E9path))\n",
    "import E9_fn.E9_constants as E9c\n",
    "import E9_fn.E9_atom as E9a\n",
    "import E9_fn.E9_cooltrap as E9ct\n",
    "import E9_fn.plane_wave_expansion.blochstate_class as bsc\n",
    "# import E9_fn.polarizabilities_calculation as E9pol\n",
    "# import E9_fn.datasets.transition_line_data as TLData\n",
    "from E9_fn import util\n",
    "\n",
    "# Logging\n",
    "logpath = '' # '' if not logging to a file\n",
    "loglevel = logging.INFO\n",
    "logroot = logging.getLogger()\n",
    "list(map(logroot.removeHandler, logroot.handlers))\n",
    "list(map(logroot.removeFilter, logroot.filters))\n",
    "logging.basicConfig(filename = logpath, level = loglevel)"
   ]
  },
  {
   "cell_type": "code",
   "execution_count": null,
   "metadata": {},
   "outputs": [
    {
     "name": "stdout",
     "output_type": "stream",
     "text": [
      "532_Rb87:\n",
      "    E_R / h     = 8.111256 kHz\n",
      "    F_0a        = 4.386491 dimless\n",
      "    F_0v        = 0.540791 f dimless\n",
      "    F_0r        = 0.066672 f^2 dimless\n",
      "    M_v / M_a   = 8.111256 f^-1 dimless\n",
      "    M_r / M_a   = 65.792473 f^-2 dimless\n",
      "1064_Rb87:\n",
      "    E_R / h     = 2.027814 kHz\n",
      "    F_0a        = 1.096623 dimless\n",
      "    F_0v        = 0.540791 f dimless\n",
      "    F_0r        = 0.266686 f^2 dimless\n",
      "    M_v / M_a   = 2.027814 f^-1 dimless\n",
      "    M_r / M_a   = 4.112030 f^-2 dimless\n",
      "532_K40:\n",
      "    E_R / h     = 17.639438 kHz\n",
      "    F_0a        = 4.386491 dimless\n",
      "    F_0v        = 0.248675 f dimless\n",
      "    F_0r        = 0.014098 f^2 dimless\n",
      "    M_v / M_a   = 17.639438 f^-1 dimless\n",
      "    M_r / M_a   = 311.149770 f^-2 dimless\n",
      "1064_K40:\n",
      "    E_R / h     = 4.409859 kHz\n",
      "    F_0a        = 1.096623 dimless\n",
      "    F_0v        = 0.248675 f dimless\n",
      "    F_0r        = 0.056391 f^2 dimless\n",
      "    M_v / M_a   = 4.409859 f^-1 dimless\n",
      "    M_r / M_a   = 19.446861 f^-2 dimless\n"
     ]
    }
   ],
   "source": [
    "for E_R, m_atom, label in zip(\n",
    "    [E9c.E_R532_Rb87,   E9c.E_R1064_Rb87,   E9c.E_R532_K40, E9c.E_R1064_K40],\n",
    "    [E9c.m_Rb87,        E9c.m_Rb87,         E9c.m_K40,      E9c.m_K40],\n",
    "    [\"532_Rb87\",        \"1064_Rb87\",        \"532_K40\",      \"1064_K40\"]\n",
    "):\n",
    "    f_R_over_1kHz = E_R / E9c.hnobar / 1e3\n",
    "    F_0a = np.pi * (E_R / E9c.hnobar) * E9c.a_sw_tri**2 * m_atom / E9c.hbar\n",
    "    print(f\"{label}:\")\n",
    "    print(f\"    E_R / h     = {f_R_over_1kHz:.6f} kHz\")\n",
    "    print(f\"    F_0a        = {F_0a:.6f} dimless\")\n",
    "    print(f\"    F_0v        = {F_0a / f_R_over_1kHz:.6f} f dimless\")\n",
    "    print(f\"    F_0r        = {F_0a / f_R_over_1kHz**2:.6f} f^2 dimless\")\n",
    "    print(f\"    M_v / M_a   = {f_R_over_1kHz:.6f} f^-1 dimless\")\n",
    "    print(f\"    M_r / M_a   = {f_R_over_1kHz**2:.6f} f^-2 dimless\")"
   ]
  },
  {
   "cell_type": "code",
   "execution_count": 30,
   "metadata": {},
   "outputs": [
    {
     "data": {
      "text/plain": [
       "1.8299440357157846"
      ]
     },
     "execution_count": 30,
     "metadata": {},
     "output_type": "execute_result"
    }
   ],
   "source": [
    "E9c.m_K40*E9c.a_lw_hex*3.14*2*3e3*8.5e3/(E9c.E_R1064_K40/E9c.a_lw_hex)"
   ]
  },
  {
   "cell_type": "code",
   "execution_count": null,
   "metadata": {},
   "outputs": [],
   "source": []
  }
 ],
 "metadata": {
  "kernelspec": {
   "display_name": ".venv",
   "language": "python",
   "name": "python3"
  },
  "language_info": {
   "codemirror_mode": {
    "name": "ipython",
    "version": 3
   },
   "file_extension": ".py",
   "mimetype": "text/x-python",
   "name": "python",
   "nbconvert_exporter": "python",
   "pygments_lexer": "ipython3",
   "version": "3.11.4"
  }
 },
 "nbformat": 4,
 "nbformat_minor": 2
}
