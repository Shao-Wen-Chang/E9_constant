{
 "cells": [
  {
   "cell_type": "code",
   "execution_count": 8,
   "metadata": {},
   "outputs": [],
   "source": [
    "# Usage guide:\n",
    "\n",
    "# This document is not kept on record. If the calcualtions are to be kept,\n",
    "# copy the whole notebook and put it in \"quick_calculations\" or appropriate\n",
    "# folders."
   ]
  },
  {
   "cell_type": "code",
   "execution_count": 9,
   "metadata": {},
   "outputs": [],
   "source": [
    "# import all the E9 stuff\n",
    "import logging\n",
    "import numpy as np\n",
    "import matplotlib.pyplot as plt\n",
    "import sys\n",
    "from pathlib import Path\n",
    "\n",
    "# User defined modules\n",
    "E9path = Path(\"C:/\", \"Users\", \"ken92\", \"Documents\", \"Studies\", \"E5\", \"simulation\", \"E9_simulations\")\n",
    "if str(E9path) not in sys.path:\n",
    "    sys.path.insert(1, str(E9path))\n",
    "import E9_fn.E9_constants as E9c\n",
    "import E9_fn.E9_numbers as E9n\n",
    "import E9_fn.E9_cooling as cool\n",
    "# import E9_fn.polarizabilities_calculation as E9pol\n",
    "from E9_fn import util\n",
    "\n",
    "# Logging\n",
    "logpath = '' # '' if not logging to a file\n",
    "loglevel = logging.INFO\n",
    "logroot = logging.getLogger()\n",
    "list(map(logroot.removeHandler, logroot.handlers))\n",
    "list(map(logroot.removeFilter, logroot.filters))\n",
    "logging.basicConfig(filename = logpath, level = loglevel)"
   ]
  },
  {
   "cell_type": "markdown",
   "metadata": {},
   "source": [
    "# Check what species you are using!\n",
    "Currently want to look at: 87Rb"
   ]
  },
  {
   "cell_type": "markdown",
   "metadata": {},
   "source": [
    "## Magnetic trap"
   ]
  },
  {
   "cell_type": "code",
   "execution_count": 10,
   "metadata": {},
   "outputs": [
    {
     "name": "stdout",
     "output_type": "stream",
     "text": [
      "V_rf_evap = -500.0000 uK\n",
      "V_grad_com = 671.7138 uK/mm\n",
      "(semiclassical) compressed trap size = 0.7444 mm\n",
      "V_grad_decom = 134.3428 uK/mm\n",
      "(semiclassical) decompressed trap size = 3.7218 mm\n"
     ]
    }
   ],
   "source": [
    "B_grad_com = 100        # [G/cm] B field gradient after compressing\n",
    "B_grad_decom = 20       # [G/cm] B field gradient after decompressing\n",
    "delta_rf_final = -10e6  # [MHz] detuning of RF knife at the end of rf evaporation\n",
    "Rb87_mF = 2             # mF value\n",
    "\n",
    "V_grad_decom = (B_grad_decom / 1e4 * 1e2) * E9c.mu_B * E9n.Rb87_5_2S1o2_F2.gF * Rb87_mF # [J/m]\n",
    "V_grad_decom_uK__mm = V_grad_decom / E9c.k_B / 1e-6 / 1e3\n",
    "V_grad_com = (B_grad_com / 1e4 * 1e2) * E9c.mu_B * E9n.Rb87_5_2S1o2_F2.gF * Rb87_mF # [J/m]\n",
    "V_grad_com_uK__mm = V_grad_com / E9c.k_B / 1e-6 / 1e3\n",
    "V_rf_evap_uK = delta_rf_final / 20e9 / 1e-6\n",
    "\n",
    "print(\"V_rf_evap = {:.4f} uK\".format(V_rf_evap_uK))\n",
    "print(\"V_grad_com = {:.4f} uK/mm\".format(V_grad_com_uK__mm))\n",
    "print(\"(semiclassical) compressed trap size = {:.4f} mm\".format(abs(V_rf_evap_uK) / V_grad_com_uK__mm))\n",
    "print(\"V_grad_decom = {:.4f} uK/mm\".format(V_grad_decom_uK__mm))\n",
    "print(\"(semiclassical) decompressed trap size = {:.4f} mm\".format(abs(V_rf_evap_uK) / V_grad_decom_uK__mm))"
   ]
  },
  {
   "cell_type": "markdown",
   "metadata": {},
   "source": [
    "## ODTs"
   ]
  },
  {
   "cell_type": "code",
   "execution_count": 11,
   "metadata": {},
   "outputs": [
    {
     "name": "stdout",
     "output_type": "stream",
     "text": [
      "Fattage of the beam = 1.0 (beam waist = 1.00e-04)\n",
      "V_ODT = -52.5240 uK\n",
      "V_ODT = -1094.4218 kHz\n"
     ]
    }
   ],
   "source": [
    "pwr_ODT = 6     # [W] ODT power at atoms\n",
    "w0_ODT = 100e-6  # ODT waist (not using the value I have in E9_constants)\n",
    "fattening = 1.  # Additional fudge factor to account for being off focus, M2 > 1, etc.\n",
    "\n",
    "I_ODT_max = E9n.I_from_power(pwr_ODT, w0_ODT * fattening)\n",
    "V_ODT = E9n.V0_from_I(E9c.gamma_Rb87_D2, (E9c.nu_Rb87_4_2P3o2 + E9c.nu_Rb87_4_2P1o2)/2,\n",
    "                      E9c.f_lw, I_ODT_max, E9n.Rb87_5_2S1o2_F2.gF, 2)\n",
    "print(\"Fattage of the beam = {} (beam waist = {:.2e})\".format(fattening, w0_ODT * fattening))\n",
    "print(\"V_ODT = {:.4f} uK\".format(V_ODT / E9c.k_B / 1e-6))\n",
    "print(\"V_ODT = {:.4f} kHz\".format(V_ODT / E9c.hnobar / 1000))"
   ]
  },
  {
   "cell_type": "markdown",
   "metadata": {},
   "source": [
    "## DMD"
   ]
  },
  {
   "cell_type": "code",
   "execution_count": 12,
   "metadata": {},
   "outputs": [
    {
     "name": "stdout",
     "output_type": "stream",
     "text": [
      "V_DMD = 82.09433987605135 kHz\n"
     ]
    }
   ],
   "source": [
    "# input parameters\n",
    "lambda_DMD = 638e-9     # wavelength used for DMD potential\n",
    "pwr_DMD = 1             # DMD power at atoms, in watts\n",
    "DMD_FoV = 200e-6**2     # field of view (region illuminated) by the DMD\n",
    "\n",
    "I_at_atom = pwr_DMD / DMD_FoV\n",
    "f_DMD = E9c.c_light / lambda_DMD\n",
    "V_DMD = E9n.V0_from_I(E9c.gamma_40K_D2, (E9c.nu_K40_4_2P3o2 + E9c.nu_K40_4_2P1o2)/2,\n",
    "                      f_DMD, I_at_atom, E9n.K40_4_2S1o2_F9o2.gF, 9/2)\n",
    "print(\"V_DMD = {} kHz\".format(V_DMD / E9c.hnobar / 1000))\n",
    "\n",
    "# Polarizibility based calculation\n",
    "# s_pol = E9pol.alpha_pol(0, lambda_DMD, E9pol.K_4S1o2_LOI, '4S1o2')\n",
    "# print(\"V_DMD = {} kHz (from polarizibility)\".format(- s_pol * I_at_atom * E9c.Z_0 / 2 / E9c.hnobar / 1000))"
   ]
  },
  {
   "cell_type": "markdown",
   "metadata": {},
   "source": [
    "## Lattices"
   ]
  },
  {
   "cell_type": "code",
   "execution_count": 24,
   "metadata": {},
   "outputs": [
    {
     "name": "stdout",
     "output_type": "stream",
     "text": [
      "304505630.9156161\n",
      "-4.874405877881955e-28\n",
      "1012208.7034285272\n",
      "3.9622697018708896e-08\n",
      "0.22858998133262806\n",
      "0.2095084992476854\n"
     ]
    }
   ],
   "source": [
    "pwr_lat_vert = 3\n",
    "w0_lat_vert = 112e-6\n",
    "\n",
    "k0_K40D1 = 2 * np.pi / E9c.lambda_K40_D1\n",
    "I_lat_vert_max = E9n.I_from_power(pwr_lat_vert * 2, w0_lat_vert)\n",
    "V_vert_lat = E9n.V0_from_I(E9c.gamma_40K_D2, (E9c.nu_K40_4_2P3o2 + E9c.nu_K40_4_2P1o2)/2,\n",
    "                           E9c.f_lw, I_lat_vert_max, E9n.K40_4_2S1o2_F9o2.gF, 9/2)\n",
    "omega0_lat_vert = (2 * np.pi / (E9c.lambda_lw / 2)) * np.sqrt(-V_vert_lat / E9c.m_K40)\n",
    "a0_vert = np.sqrt(E9c.hbar / E9c.m_K40 / omega0_lat_vert)\n",
    "lamb_dicke_vert = k0_K40D1 * a0_vert / np.sqrt(2)\n",
    "\n",
    "# print(I_lat_vert_max)\n",
    "# print(V_vert_lat)\n",
    "# print(omega0_lat_vert)\n",
    "# print(a0_vert)\n",
    "print(lamb_dicke_vert)\n",
    "print((0.85**(-2) * 5/3)**(1/4) * 0.17)"
   ]
  },
  {
   "cell_type": "code",
   "execution_count": null,
   "metadata": {},
   "outputs": [],
   "source": []
  }
 ],
 "metadata": {
  "kernelspec": {
   "display_name": "spyder-env",
   "language": "python",
   "name": "python3"
  },
  "language_info": {
   "codemirror_mode": {
    "name": "ipython",
    "version": 3
   },
   "file_extension": ".py",
   "mimetype": "text/x-python",
   "name": "python",
   "nbconvert_exporter": "python",
   "pygments_lexer": "ipython3",
   "version": "3.11.4"
  }
 },
 "nbformat": 4,
 "nbformat_minor": 2
}
